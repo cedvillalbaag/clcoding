{
 "cells": [
  {
   "cell_type": "code",
   "execution_count": 1,
   "metadata": {},
   "outputs": [
    {
     "name": "stdout",
     "output_type": "stream",
     "text": [
      "🔍 Monitoreo del Sistema\n",
      "⚡ CPU: 13.2%\n",
      "💾 Memoria RAM: 86.0%\n",
      "📀 Uso de Disco: 80.2%\n",
      "🔋 Batería: 50%\n",
      "------------------------------\n",
      "🔍 Monitoreo del Sistema\n",
      "⚡ CPU: 21.9%\n",
      "💾 Memoria RAM: 85.9%\n",
      "📀 Uso de Disco: 80.2%\n",
      "🔋 Batería: 50%\n",
      "------------------------------\n",
      "🔍 Monitoreo del Sistema\n",
      "⚡ CPU: 15.9%\n",
      "💾 Memoria RAM: 85.8%\n",
      "📀 Uso de Disco: 80.2%\n",
      "🔋 Batería: 50%\n",
      "------------------------------\n",
      "🔍 Monitoreo del Sistema\n",
      "⚡ CPU: 13.5%\n",
      "💾 Memoria RAM: 85.8%\n",
      "📀 Uso de Disco: 80.2%\n",
      "🔋 Batería: 50%\n",
      "------------------------------\n",
      "🔍 Monitoreo del Sistema\n",
      "⚡ CPU: 11.1%\n",
      "💾 Memoria RAM: 85.8%\n",
      "📀 Uso de Disco: 80.2%\n",
      "🔋 Batería: 50%\n",
      "------------------------------\n",
      "🔍 Monitoreo del Sistema\n",
      "⚡ CPU: 28.5%\n",
      "💾 Memoria RAM: 85.7%\n",
      "📀 Uso de Disco: 80.2%\n",
      "🔋 Batería: 50%\n",
      "------------------------------\n",
      "🔍 Monitoreo del Sistema\n",
      "⚡ CPU: 9.5%\n",
      "💾 Memoria RAM: 85.6%\n",
      "📀 Uso de Disco: 80.2%\n",
      "🔋 Batería: 51%\n",
      "------------------------------\n",
      "\n",
      "🛑 Monitoreo detenido por el usuario.\n"
     ]
    }
   ],
   "source": [
    "import psutil\n",
    "import time\n",
    "\n",
    "def monitorear_sistema(intervalo=1):\n",
    "    try:\n",
    "        while True:\n",
    "            cpu = psutil.cpu_percent(interval=intervalo)\n",
    "            memoria = psutil.virtual_memory().percent\n",
    "            disco = psutil.disk_usage('/').percent\n",
    "            bateria = psutil.sensors_battery().percent if psutil.sensors_battery() else \"No disponible\"\n",
    "\n",
    "            print(f\"🔍 Monitoreo del Sistema\")\n",
    "            print(f\"⚡ CPU: {cpu}%\")\n",
    "            print(f\"💾 Memoria RAM: {memoria}%\")\n",
    "            print(f\"📀 Uso de Disco: {disco}%\")\n",
    "            print(f\"🔋 Batería: {bateria}%\")\n",
    "            print(\"-\" * 30)\n",
    "\n",
    "            time.sleep(intervalo)  # Esperar antes de la próxima medición\n",
    "\n",
    "    except KeyboardInterrupt:\n",
    "        print(\"\\n🛑 Monitoreo detenido por el usuario.\")\n",
    "\n",
    "# Ejecutar el monitoreo\n",
    "monitorear_sistema(2)  # Refresca cada 2 segundos\n"
   ]
  },
  {
   "cell_type": "code",
   "execution_count": null,
   "metadata": {},
   "outputs": [],
   "source": [
    " "
   ]
  }
 ],
 "metadata": {
  "hide_input": false,
  "kernelspec": {
   "display_name": "Python 3",
   "language": "python",
   "name": "python3"
  },
  "language_info": {
   "codemirror_mode": {
    "name": "ipython",
    "version": 3
   },
   "file_extension": ".py",
   "mimetype": "text/x-python",
   "name": "python",
   "nbconvert_exporter": "python",
   "pygments_lexer": "ipython3",
   "version": "3.8.5"
  },
  "toc": {
   "base_numbering": 1,
   "nav_menu": {},
   "number_sections": true,
   "sideBar": true,
   "skip_h1_title": false,
   "title_cell": "Table of Contents",
   "title_sidebar": "Contents",
   "toc_cell": false,
   "toc_position": {},
   "toc_section_display": true,
   "toc_window_display": false
  }
 },
 "nbformat": 4,
 "nbformat_minor": 4
}
