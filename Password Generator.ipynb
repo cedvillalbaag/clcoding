{
 "cells": [
  {
   "cell_type": "code",
   "execution_count": 3,
   "metadata": {},
   "outputs": [
    {
     "name": "stdout",
     "output_type": "stream",
     "text": [
      "Un9B1Pg8ehstA0Br\n"
     ]
    }
   ],
   "source": [
    "import secrets\n",
    "import string\n",
    "\n",
    "def generar_contraseña(longitud=12, incluir_especiales=False):\n",
    "    caracteres = string.ascii_letters + string.digits\n",
    "    if incluir_especiales:\n",
    "        caracteres += string.punctuation  # Agregar símbolos especiales\n",
    "    \n",
    "    return ''.join(secrets.choice(caracteres) for _ in range(longitud))\n",
    "\n",
    "# Ejemplo de uso\n",
    "print(generar_contraseña(16, incluir_especiales=False))  # Contraseña más segura de 16 caracteres"
   ]
  },
  {
   "cell_type": "code",
   "execution_count": null,
   "metadata": {},
   "outputs": [],
   "source": []
  }
 ],
 "metadata": {
  "hide_input": false,
  "kernelspec": {
   "display_name": "Python 3",
   "language": "python",
   "name": "python3"
  },
  "language_info": {
   "codemirror_mode": {
    "name": "ipython",
    "version": 3
   },
   "file_extension": ".py",
   "mimetype": "text/x-python",
   "name": "python",
   "nbconvert_exporter": "python",
   "pygments_lexer": "ipython3",
   "version": "3.8.5"
  },
  "toc": {
   "base_numbering": 1,
   "nav_menu": {},
   "number_sections": true,
   "sideBar": true,
   "skip_h1_title": false,
   "title_cell": "Table of Contents",
   "title_sidebar": "Contents",
   "toc_cell": false,
   "toc_position": {},
   "toc_section_display": true,
   "toc_window_display": false
  }
 },
 "nbformat": 4,
 "nbformat_minor": 4
}
