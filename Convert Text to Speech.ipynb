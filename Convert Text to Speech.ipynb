{
 "cells": [
  {
   "cell_type": "code",
   "execution_count": 2,
   "metadata": {},
   "outputs": [
    {
     "name": "stdout",
     "output_type": "stream",
     "text": [
      "Collecting pyttsx3\n",
      "  Downloading pyttsx3-2.98-py3-none-any.whl (34 kB)\n",
      "Requirement already satisfied: pywin32; platform_system == \"Windows\" in c:\\users\\asus\\anaconda3\\lib\\site-packages (from pyttsx3) (227)\n",
      "Note: you may need to restart the kernel to use updated packages.Collecting pypiwin32; platform_system == \"Windows\"\n",
      "  Using cached pypiwin32-223-py3-none-any.whl (1.7 kB)\n",
      "Requirement already satisfied: comtypes; platform_system == \"Windows\" in c:\\users\\asus\\anaconda3\\lib\\site-packages (from pyttsx3) (1.1.7)\n",
      "\n",
      "Installing collected packages: pypiwin32, pyttsx3\n",
      "Successfully installed pypiwin32-223 pyttsx3-2.98\n"
     ]
    }
   ],
   "source": [
    "pip install pyttsx3"
   ]
  },
  {
   "cell_type": "code",
   "execution_count": 3,
   "metadata": {},
   "outputs": [
    {
     "name": "stdout",
     "output_type": "stream",
     "text": [
      "✅ Audio guardado como: audio_salida.mp3\n"
     ]
    }
   ],
   "source": [
    "import pyttsx3\n",
    "\n",
    "def texto_a_audio(texto, nombre_archivo=None, velocidad=200, volumen=1.0, voz_id=0):\n",
    "    try:\n",
    "        engine = pyttsx3.init()\n",
    "\n",
    "        # Configurar velocidad y volumen\n",
    "        engine.setProperty('rate', velocidad)  # Velocidad (palabras por minuto)\n",
    "        engine.setProperty('volume', volumen)  # Volumen (0.0 a 1.0)\n",
    "\n",
    "        # Configurar la voz (0 para la primera voz, 1 para la segunda, etc.)\n",
    "        voces = engine.getProperty('voices')\n",
    "        if voz_id < len(voces):\n",
    "            engine.setProperty('voice', voces[voz_id].id)\n",
    "\n",
    "        # Reproducir el texto\n",
    "        engine.say(texto)\n",
    "        engine.runAndWait()\n",
    "\n",
    "        # Guardar en archivo si se especifica\n",
    "        if nombre_archivo:\n",
    "            engine.save_to_file(texto, nombre_archivo)\n",
    "            engine.runAndWait()\n",
    "            print(f\"✅ Audio guardado como: {nombre_archivo}\")\n",
    "\n",
    "    except Exception as e:\n",
    "        print(f\"❌ Error: {e}\")\n",
    "\n",
    "# Ejemplo de uso\n",
    "texto_a_audio(\"Se muriooooooooooo, el diaaaablo en el día de hoy!. Desde la casa de los famosos\", \"audio_salida.mp3\", velocidad=160, volumen=0.9, voz_id=3)\n"
   ]
  },
  {
   "cell_type": "code",
   "execution_count": null,
   "metadata": {},
   "outputs": [],
   "source": []
  }
 ],
 "metadata": {
  "hide_input": false,
  "kernelspec": {
   "display_name": "Python 3",
   "language": "python",
   "name": "python3"
  },
  "language_info": {
   "codemirror_mode": {
    "name": "ipython",
    "version": 3
   },
   "file_extension": ".py",
   "mimetype": "text/x-python",
   "name": "python",
   "nbconvert_exporter": "python",
   "pygments_lexer": "ipython3",
   "version": "3.8.5"
  },
  "toc": {
   "base_numbering": 1,
   "nav_menu": {},
   "number_sections": true,
   "sideBar": true,
   "skip_h1_title": false,
   "title_cell": "Table of Contents",
   "title_sidebar": "Contents",
   "toc_cell": false,
   "toc_position": {},
   "toc_section_display": true,
   "toc_window_display": false
  }
 },
 "nbformat": 4,
 "nbformat_minor": 4
}
