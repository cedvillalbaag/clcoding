{
 "cells": [
  {
   "cell_type": "code",
   "execution_count": 2,
   "metadata": {},
   "outputs": [
    {
     "name": "stdout",
     "output_type": "stream",
     "text": [
      "Collecting speedtest-cli\n",
      "  Downloading speedtest_cli-2.1.3-py2.py3-none-any.whl (23 kB)\n",
      "Installing collected packages: speedtest-cli\n",
      "Successfully installed speedtest-cli-2.1.3\n",
      "Note: you may need to restart the kernel to use updated packages.\n"
     ]
    }
   ],
   "source": [
    "pip install speedtest-cli"
   ]
  },
  {
   "cell_type": "code",
   "execution_count": 1,
   "metadata": {},
   "outputs": [
    {
     "name": "stdout",
     "output_type": "stream",
     "text": [
      "📡 Velocidad de Internet:\n",
      "⚡ Ping: 24.29 ms\n",
      "⬇️  Descarga: 184.89 Mbps\n",
      "⬆️  Subida: 11.13 Mbps\n"
     ]
    }
   ],
   "source": [
    "import speedtest\n",
    "\n",
    "def medir_velocidad():\n",
    "    try:\n",
    "        st = speedtest.Speedtest()\n",
    "        st.get_best_server()  # Encuentra el mejor servidor automáticamente\n",
    "\n",
    "        ping = st.results.ping\n",
    "        descarga = st.download() / 1_000_000  # Convertir a Mbps\n",
    "        subida = st.upload() / 1_000_000  # Convertir a Mbps\n",
    "\n",
    "        print(f\"📡 Velocidad de Internet:\")\n",
    "        print(f\"⚡ Ping: {ping:.2f} ms\")\n",
    "        print(f\"⬇️  Descarga: {descarga:.2f} Mbps\")\n",
    "        print(f\"⬆️  Subida: {subida:.2f} Mbps\")\n",
    "    \n",
    "    except Exception as e:\n",
    "        print(f\"❌ Error al medir la velocidad: {e}\")\n",
    "\n",
    "# Ejecutar la función\n",
    "medir_velocidad()"
   ]
  },
  {
   "cell_type": "code",
   "execution_count": null,
   "metadata": {},
   "outputs": [],
   "source": []
  }
 ],
 "metadata": {
  "hide_input": true,
  "kernelspec": {
   "display_name": "Python 3",
   "language": "python",
   "name": "python3"
  },
  "language_info": {
   "codemirror_mode": {
    "name": "ipython",
    "version": 3
   },
   "file_extension": ".py",
   "mimetype": "text/x-python",
   "name": "python",
   "nbconvert_exporter": "python",
   "pygments_lexer": "ipython3",
   "version": "3.8.5"
  },
  "toc": {
   "base_numbering": 1,
   "nav_menu": {},
   "number_sections": true,
   "sideBar": true,
   "skip_h1_title": false,
   "title_cell": "Table of Contents",
   "title_sidebar": "Contents",
   "toc_cell": false,
   "toc_position": {},
   "toc_section_display": true,
   "toc_window_display": false
  }
 },
 "nbformat": 4,
 "nbformat_minor": 4
}
